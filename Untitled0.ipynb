{
  "nbformat": 4,
  "nbformat_minor": 0,
  "metadata": {
    "colab": {
      "provenance": [],
      "authorship_tag": "ABX9TyPGN2nKGB5xLSqvAdAMzpBu",
      "include_colab_link": true
    },
    "kernelspec": {
      "name": "python3",
      "display_name": "Python 3"
    },
    "language_info": {
      "name": "python"
    }
  },
  "cells": [
    {
      "cell_type": "markdown",
      "metadata": {
        "id": "view-in-github",
        "colab_type": "text"
      },
      "source": [
        "<a href=\"https://colab.research.google.com/github/AmandaProenca/Inteligencia-artificial-na-escola/blob/main/Untitled0.ipynb\" target=\"_parent\"><img src=\"https://colab.research.google.com/assets/colab-badge.svg\" alt=\"Open In Colab\"/></a>"
      ]
    },
    {
      "cell_type": "markdown",
      "source": [],
      "metadata": {
        "id": "NxN81Vs9tI_D"
      }
    },
    {
      "cell_type": "code",
      "execution_count": null,
      "metadata": {
        "id": "MozNVmqps9Jk"
      },
      "outputs": [],
      "source": [
        "(\"print I competição de programação dá Start\")\n",
        "ano = \"II\"\n",
        "print(ano, \"competição de programação da Start\")\n",
        "print(f\"{ano} competição de programação da Start\")\n",
        "## Aula 1\n",
        "## Aula 2\n",
        "print(f\"Os pontos totais do Rodrigo são {pontos_rodrigo}\")\n",
        "total_de_figurinhas = int(input(\"Digite o total de figurinhas: \"))\n",
        "numero_de_amigos = int(input(\"Digite o número de amigos: \"))\n",
        "figurinhas_amigo = total_de_figurinhas // (numero_de_amigos + 2)\n",
        "total_de_figurinhas = int(input(\"Digite o total de figurinhas: \"))\n",
        "numero_de_amigos = int(input(\"Digite o número de amigos: \"))\n",
        "figurinhas_joao = 2 * figurinhas_amigo\n",
        "\n",
        "print(f\"João recebeu {figurinhas_joao} figurinhas\")\n",
        "numero_de_alunos = int(input(\"Digite a quantidade de alunos: \"))\n",
        "numero_de_monitores = int(input(\"Digite a quantidade de monitores: \"))\n",
        "if numero_de_alunos + numero_de_monitores <= 50:\n",
        "  resposta_positiva = \"pode ir\"\n",
        "resposta_negativa = \"não pode ir\"\n",
        "if numero_de_alunos + numero_de_monitores <= 50:\n",
        "print(resposta_positiva)\n",
        "else:\n",
        "print(resposta_negativa)\n",
        "P = int(input(\"Digite a posição da porta P (0 ou 1): \"))\n",
        "P = int(input(\"Digite a posição da porta P (0 ou 1): \"))\n",
        "R = int(input(\"Digite a posição da porta R (0 ou 1): \"))\n",
        "if P == 0:\n",
        "    print(\"C\")\n",
        "    elif R == 1:\n",
        "    print(\"A\")\n",
        "    else:\n",
        "    print(\"B\")\n",
        "    if P == 0:\n",
        "    print(\"C\")\n",
        "elif R == 1:\n",
        "    print(\"A\")\n",
        "else:\n",
        "    print(\"B\")\n",
        "    elif R == 1:\n",
        "    print(\"A\")\n",
        "else:\n",
        "    print(\"B\")\n",
        "else:\n",
        "    print(\"B\")\n",
        "    def calcula_idade_maior(idade_monica, idade_filho1, idade_filho2):\n",
        "      idade_filho3 = idade_monica - idade_filho1 – idade_filho2\n",
        "      idade_maxima = max(idade_filho1, idade_filho2, idade_filho3)\n",
        "      def calcula_idade_maior(idade_monica, idade_filho1, idade_filho2):\n",
        "idade_filho3 = idade_monica - idade_filho1 - idade_filho2\n",
        "idade_maxima = max(idade_filho1, idade_filho2, idade_filho3)\n",
        "return idade_filho3, idade_maxima\n",
        "resultado = calcula_idade_maior(68, 12, 30)\n",
        "print(resultado)\n",
        "(26, 30)\n",
        "Entrada: 2\n",
        "Saída:\n",
        "2 x 1 = 2\n",
        "2 x 2 = 4\n",
        "...\n",
        "2 x 10 = 20\n",
        "def calcula_tabuada(numero):\n",
        "    # A lógica da tabuada será implementada aqui\n",
        "    for i in range(1, 11):\n",
        "      def calcula_tabuada(numero):\n",
        "    for i in range(1, 11):\n",
        "        print(f'{numero} x {i} = {numero * i}')\n",
        "        idade_monica = 40\n",
        "idade_filho1 = 12 idade_filho2 = 15\n",
        "idade_filho3 = idade_monica - (idade_filho1 + idade_filho2)\n",
        "idades = [idade_filho1, idade_filho2, idade_filho3]\n",
        "mais_velho = max(idades)\n",
        "print(f\"O filho mais velho tem {mais_velho} anos.\")\n"
      ]
    },
    {
      "cell_type": "code",
      "source": [],
      "metadata": {
        "id": "uueRfmNXtJSK"
      },
      "execution_count": null,
      "outputs": []
    }
  ]
}